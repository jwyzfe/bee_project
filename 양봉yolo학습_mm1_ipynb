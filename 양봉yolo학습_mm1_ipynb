{
  "nbformat": 4,
  "nbformat_minor": 0,
  "metadata": {
    "colab": {
      "provenance": []
    },
    "kernelspec": {
      "name": "python3",
      "display_name": "Python 3"
    },
    "language_info": {
      "name": "python"
    }
  },
  "cells": [
    {
      "cell_type": "code",
      "source": [
        "#colab과 googledrive 연동\n",
        "from google.colab import drive\n",
        "drive.mount('/content/drive')"
      ],
      "metadata": {
        "id": "UeKVGVCUVscF",
        "colab": {
          "base_uri": "https://localhost:8080/"
        },
        "outputId": "d5338da9-3f02-430a-9229-0d5e71b9f412"
      },
      "execution_count": null,
      "outputs": [
        {
          "output_type": "stream",
          "name": "stdout",
          "text": [
            "Drive already mounted at /content/drive; to attempt to forcibly remount, call drive.mount(\"/content/drive\", force_remount=True).\n"
          ]
        }
      ]
    },
    {
      "cell_type": "code",
      "source": [
        "import os\n",
        "os.chdir('/content/drive/MyDrive/bee_yolo_mmh2')"
      ],
      "metadata": {
        "id": "h6wydJm0Gf5e"
      },
      "execution_count": null,
      "outputs": []
    },
    {
      "cell_type": "code",
      "source": [
        "#YOLO학습을 위한 YAML파일\n",
        "!pip install PyYAML"
      ],
      "metadata": {
        "id": "Ju9TrE4VXOKB",
        "colab": {
          "base_uri": "https://localhost:8080/"
        },
        "outputId": "bd9d98c7-b3c6-4303-d3ee-f123a41a8e02"
      },
      "execution_count": null,
      "outputs": [
        {
          "output_type": "stream",
          "name": "stdout",
          "text": [
            "Requirement already satisfied: PyYAML in /usr/local/lib/python3.10/dist-packages (6.0.1)\n"
          ]
        }
      ]
    },
    {
      "cell_type": "code",
      "source": [
        "import yaml\n",
        "# YOLOv8 학습과 검증에 사용된 train, valid date 가 저장되어 있는 디렉토리 경로\n",
        "data = { 'train': '/content/drive/MyDrive/bee_yolo_mmh2/data/train',\n",
        "        'val': '/content/drive/MyDrive/bee_yolo_mmh2/data/val',\n",
        "        'test': '/content/drive/MyDrive/bee_yolo_mmh2/data/test',\n",
        "        'names' : { 0: 'mantis', 1: 'moth', 2: 'hornet', 3: 'bee'}}\n",
        "\n",
        "# 데이터 경로와 클래스 정보를 저장하고 있는 딕셔너리 객체 data를 YOLOv8 학습에 필요한 mantis.yaml 으로 저장\n",
        "with open('/content/drive/MyDrive/bee_yolo_mmh2/data/mmh2.yaml', 'w') as f:\n",
        "    yaml.dump(data, f)\n",
        "\n",
        "# mantis_yaml 읽어서 화면에 출력\n",
        "with open('/content/drive/MyDrive/bee_yolo_mmh2/data/mmh2.yaml', 'r') as f:\n",
        "    moth_yaml = yaml.safe_load(f)\n",
        "    display(moth_yaml)"
      ],
      "metadata": {
        "id": "XiuEWYPuYRJL",
        "colab": {
          "base_uri": "https://localhost:8080/",
          "height": 91
        },
        "outputId": "78e1caf2-aea3-429d-9815-c3b4d013a2dd"
      },
      "execution_count": null,
      "outputs": [
        {
          "output_type": "display_data",
          "data": {
            "text/plain": [
              "{'names': {0: 'mantis', 1: 'moth', 2: 'hornet', 3: 'bee'},\n",
              " 'test': '/content/drive/MyDrive/bee_yolo_mmh2/data/test',\n",
              " 'train': '/content/drive/MyDrive/bee_yolo_mmh2/data/train',\n",
              " 'val': '/content/drive/MyDrive/bee_yolo_mmh2/data/val'}"
            ]
          },
          "metadata": {}
        }
      ]
    },
    {
      "cell_type": "code",
      "source": [
        "!pip install -U ultralytics"
      ],
      "metadata": {
        "id": "oRUMHHqHYUbH",
        "colab": {
          "base_uri": "https://localhost:8080/"
        },
        "outputId": "82ecc78a-7486-425e-c828-537eefa34f0a"
      },
      "execution_count": null,
      "outputs": [
        {
          "output_type": "stream",
          "name": "stdout",
          "text": [
            "Requirement already satisfied: ultralytics in /usr/local/lib/python3.10/dist-packages (8.0.219)\n",
            "Requirement already satisfied: matplotlib>=3.3.0 in /usr/local/lib/python3.10/dist-packages (from ultralytics) (3.7.1)\n",
            "Requirement already satisfied: numpy>=1.22.2 in /usr/local/lib/python3.10/dist-packages (from ultralytics) (1.23.5)\n",
            "Requirement already satisfied: opencv-python>=4.6.0 in /usr/local/lib/python3.10/dist-packages (from ultralytics) (4.8.0.76)\n",
            "Requirement already satisfied: pillow>=7.1.2 in /usr/local/lib/python3.10/dist-packages (from ultralytics) (9.4.0)\n",
            "Requirement already satisfied: pyyaml>=5.3.1 in /usr/local/lib/python3.10/dist-packages (from ultralytics) (6.0.1)\n",
            "Requirement already satisfied: requests>=2.23.0 in /usr/local/lib/python3.10/dist-packages (from ultralytics) (2.31.0)\n",
            "Requirement already satisfied: scipy>=1.4.1 in /usr/local/lib/python3.10/dist-packages (from ultralytics) (1.11.3)\n",
            "Requirement already satisfied: torch>=1.8.0 in /usr/local/lib/python3.10/dist-packages (from ultralytics) (2.1.0+cu118)\n",
            "Requirement already satisfied: torchvision>=0.9.0 in /usr/local/lib/python3.10/dist-packages (from ultralytics) (0.16.0+cu118)\n",
            "Requirement already satisfied: tqdm>=4.64.0 in /usr/local/lib/python3.10/dist-packages (from ultralytics) (4.66.1)\n",
            "Requirement already satisfied: pandas>=1.1.4 in /usr/local/lib/python3.10/dist-packages (from ultralytics) (1.5.3)\n",
            "Requirement already satisfied: seaborn>=0.11.0 in /usr/local/lib/python3.10/dist-packages (from ultralytics) (0.12.2)\n",
            "Requirement already satisfied: psutil in /usr/local/lib/python3.10/dist-packages (from ultralytics) (5.9.5)\n",
            "Requirement already satisfied: py-cpuinfo in /usr/local/lib/python3.10/dist-packages (from ultralytics) (9.0.0)\n",
            "Requirement already satisfied: thop>=0.1.1 in /usr/local/lib/python3.10/dist-packages (from ultralytics) (0.1.1.post2209072238)\n",
            "Requirement already satisfied: contourpy>=1.0.1 in /usr/local/lib/python3.10/dist-packages (from matplotlib>=3.3.0->ultralytics) (1.2.0)\n",
            "Requirement already satisfied: cycler>=0.10 in /usr/local/lib/python3.10/dist-packages (from matplotlib>=3.3.0->ultralytics) (0.12.1)\n",
            "Requirement already satisfied: fonttools>=4.22.0 in /usr/local/lib/python3.10/dist-packages (from matplotlib>=3.3.0->ultralytics) (4.44.3)\n",
            "Requirement already satisfied: kiwisolver>=1.0.1 in /usr/local/lib/python3.10/dist-packages (from matplotlib>=3.3.0->ultralytics) (1.4.5)\n",
            "Requirement already satisfied: packaging>=20.0 in /usr/local/lib/python3.10/dist-packages (from matplotlib>=3.3.0->ultralytics) (23.2)\n",
            "Requirement already satisfied: pyparsing>=2.3.1 in /usr/local/lib/python3.10/dist-packages (from matplotlib>=3.3.0->ultralytics) (3.1.1)\n",
            "Requirement already satisfied: python-dateutil>=2.7 in /usr/local/lib/python3.10/dist-packages (from matplotlib>=3.3.0->ultralytics) (2.8.2)\n",
            "Requirement already satisfied: pytz>=2020.1 in /usr/local/lib/python3.10/dist-packages (from pandas>=1.1.4->ultralytics) (2023.3.post1)\n",
            "Requirement already satisfied: charset-normalizer<4,>=2 in /usr/local/lib/python3.10/dist-packages (from requests>=2.23.0->ultralytics) (3.3.2)\n",
            "Requirement already satisfied: idna<4,>=2.5 in /usr/local/lib/python3.10/dist-packages (from requests>=2.23.0->ultralytics) (3.4)\n",
            "Requirement already satisfied: urllib3<3,>=1.21.1 in /usr/local/lib/python3.10/dist-packages (from requests>=2.23.0->ultralytics) (2.0.7)\n",
            "Requirement already satisfied: certifi>=2017.4.17 in /usr/local/lib/python3.10/dist-packages (from requests>=2.23.0->ultralytics) (2023.7.22)\n",
            "Requirement already satisfied: filelock in /usr/local/lib/python3.10/dist-packages (from torch>=1.8.0->ultralytics) (3.13.1)\n",
            "Requirement already satisfied: typing-extensions in /usr/local/lib/python3.10/dist-packages (from torch>=1.8.0->ultralytics) (4.5.0)\n",
            "Requirement already satisfied: sympy in /usr/local/lib/python3.10/dist-packages (from torch>=1.8.0->ultralytics) (1.12)\n",
            "Requirement already satisfied: networkx in /usr/local/lib/python3.10/dist-packages (from torch>=1.8.0->ultralytics) (3.2.1)\n",
            "Requirement already satisfied: jinja2 in /usr/local/lib/python3.10/dist-packages (from torch>=1.8.0->ultralytics) (3.1.2)\n",
            "Requirement already satisfied: fsspec in /usr/local/lib/python3.10/dist-packages (from torch>=1.8.0->ultralytics) (2023.6.0)\n",
            "Requirement already satisfied: triton==2.1.0 in /usr/local/lib/python3.10/dist-packages (from torch>=1.8.0->ultralytics) (2.1.0)\n",
            "Requirement already satisfied: six>=1.5 in /usr/local/lib/python3.10/dist-packages (from python-dateutil>=2.7->matplotlib>=3.3.0->ultralytics) (1.16.0)\n",
            "Requirement already satisfied: MarkupSafe>=2.0 in /usr/local/lib/python3.10/dist-packages (from jinja2->torch>=1.8.0->ultralytics) (2.1.3)\n",
            "Requirement already satisfied: mpmath>=0.19 in /usr/local/lib/python3.10/dist-packages (from sympy->torch>=1.8.0->ultralytics) (1.3.0)\n"
          ]
        }
      ]
    },
    {
      "cell_type": "code",
      "source": [
        "import ultralytics\n",
        "ultralytics.checks()"
      ],
      "metadata": {
        "id": "BVQhI03PYXoH",
        "colab": {
          "base_uri": "https://localhost:8080/"
        },
        "outputId": "7283e05a-97cd-4e95-cd20-d7718120e746"
      },
      "execution_count": null,
      "outputs": [
        {
          "output_type": "stream",
          "name": "stdout",
          "text": [
            "Ultralytics YOLOv8.0.219 🚀 Python-3.10.12 torch-2.1.0+cu118 CPU (AMD EPYC 7B12)\n",
            "Setup complete ✅ (2 CPUs, 12.7 GB RAM, 27.1/107.7 GB disk)\n"
          ]
        }
      ]
    },
    {
      "cell_type": "code",
      "source": [
        "from ultralytics import YOLO\n",
        "\n",
        "model = YOLO('yolov8n.pt')"
      ],
      "metadata": {
        "id": "wu6VvznNYbas"
      },
      "execution_count": null,
      "outputs": []
    },
    {
      "cell_type": "code",
      "source": [
        "model.train(data ='/content/drive/MyDrive/bee_yolo_mmh2/data/mmh2.yaml', epochs=100, patience=10, batch=64, imgsz=640)"
      ],
      "metadata": {
        "id": "oG1VPybhYkEG",
        "colab": {
          "base_uri": "https://localhost:8080/"
        },
        "outputId": "a2e46ca3-d1f7-4308-9557-663532742c5b"
      },
      "execution_count": null,
      "outputs": [
        {
          "output_type": "stream",
          "name": "stdout",
          "text": [
            "Ultralytics YOLOv8.0.219 🚀 Python-3.10.12 torch-2.1.0+cu118 CPU (AMD EPYC 7B12)\n",
            "\u001b[34m\u001b[1mengine/trainer: \u001b[0mtask=detect, mode=train, model=yolov8m.pt, data=/content/drive/MyDrive/bee_yolo_mmh2/data/mmh2.yaml, epochs=100, patience=10, batch=32, imgsz=640, save=True, save_period=-1, cache=False, device=None, workers=8, project=None, name=train16, exist_ok=False, pretrained=True, optimizer=auto, verbose=True, seed=0, deterministic=True, single_cls=False, rect=False, cos_lr=False, close_mosaic=10, resume=False, amp=True, fraction=1.0, profile=False, freeze=None, overlap_mask=True, mask_ratio=4, dropout=0.0, val=True, split=val, save_json=False, save_hybrid=False, conf=None, iou=0.7, max_det=300, half=False, dnn=False, plots=True, source=None, vid_stride=1, stream_buffer=False, visualize=False, augment=False, agnostic_nms=False, classes=None, retina_masks=False, show=False, save_frames=False, save_txt=False, save_conf=False, save_crop=False, show_labels=True, show_conf=True, show_boxes=True, line_width=None, format=torchscript, keras=False, optimize=False, int8=False, dynamic=False, simplify=False, opset=None, workspace=4, nms=False, lr0=0.01, lrf=0.01, momentum=0.937, weight_decay=0.0005, warmup_epochs=3.0, warmup_momentum=0.8, warmup_bias_lr=0.1, box=7.5, cls=0.5, dfl=1.5, pose=12.0, kobj=1.0, label_smoothing=0.0, nbs=64, hsv_h=0.015, hsv_s=0.7, hsv_v=0.4, degrees=0.0, translate=0.1, scale=0.5, shear=0.0, perspective=0.0, flipud=0.0, fliplr=0.5, mosaic=1.0, mixup=0.0, copy_paste=0.0, cfg=None, tracker=botsort.yaml, save_dir=runs/detect/train16\n",
            "Overriding model.yaml nc=80 with nc=4\n",
            "\n",
            "                   from  n    params  module                                       arguments                     \n",
            "  0                  -1  1      1392  ultralytics.nn.modules.conv.Conv             [3, 48, 3, 2]                 \n",
            "  1                  -1  1     41664  ultralytics.nn.modules.conv.Conv             [48, 96, 3, 2]                \n",
            "  2                  -1  2    111360  ultralytics.nn.modules.block.C2f             [96, 96, 2, True]             \n",
            "  3                  -1  1    166272  ultralytics.nn.modules.conv.Conv             [96, 192, 3, 2]               \n",
            "  4                  -1  4    813312  ultralytics.nn.modules.block.C2f             [192, 192, 4, True]           \n",
            "  5                  -1  1    664320  ultralytics.nn.modules.conv.Conv             [192, 384, 3, 2]              \n",
            "  6                  -1  4   3248640  ultralytics.nn.modules.block.C2f             [384, 384, 4, True]           \n",
            "  7                  -1  1   1991808  ultralytics.nn.modules.conv.Conv             [384, 576, 3, 2]              \n",
            "  8                  -1  2   3985920  ultralytics.nn.modules.block.C2f             [576, 576, 2, True]           \n",
            "  9                  -1  1    831168  ultralytics.nn.modules.block.SPPF            [576, 576, 5]                 \n",
            " 10                  -1  1         0  torch.nn.modules.upsampling.Upsample         [None, 2, 'nearest']          \n",
            " 11             [-1, 6]  1         0  ultralytics.nn.modules.conv.Concat           [1]                           \n",
            " 12                  -1  2   1993728  ultralytics.nn.modules.block.C2f             [960, 384, 2]                 \n",
            " 13                  -1  1         0  torch.nn.modules.upsampling.Upsample         [None, 2, 'nearest']          \n",
            " 14             [-1, 4]  1         0  ultralytics.nn.modules.conv.Concat           [1]                           \n",
            " 15                  -1  2    517632  ultralytics.nn.modules.block.C2f             [576, 192, 2]                 \n",
            " 16                  -1  1    332160  ultralytics.nn.modules.conv.Conv             [192, 192, 3, 2]              \n",
            " 17            [-1, 12]  1         0  ultralytics.nn.modules.conv.Concat           [1]                           \n",
            " 18                  -1  2   1846272  ultralytics.nn.modules.block.C2f             [576, 384, 2]                 \n",
            " 19                  -1  1   1327872  ultralytics.nn.modules.conv.Conv             [384, 384, 3, 2]              \n",
            " 20             [-1, 9]  1         0  ultralytics.nn.modules.conv.Concat           [1]                           \n",
            " 21                  -1  2   4207104  ultralytics.nn.modules.block.C2f             [960, 576, 2]                 \n",
            " 22        [15, 18, 21]  1   3778012  ultralytics.nn.modules.head.Detect           [4, [192, 384, 576]]          \n",
            "Model summary: 295 layers, 25858636 parameters, 25858620 gradients, 79.1 GFLOPs\n",
            "\n",
            "Transferred 469/475 items from pretrained weights\n",
            "\u001b[34m\u001b[1mTensorBoard: \u001b[0mStart with 'tensorboard --logdir runs/detect/train16', view at http://localhost:6006/\n",
            "Freezing layer 'model.22.dfl.conv.weight'\n"
          ]
        },
        {
          "output_type": "stream",
          "name": "stderr",
          "text": [
            "\u001b[34m\u001b[1mtrain: \u001b[0mScanning /content/drive/MyDrive/bee_yolo_mmh2/data/train.cache... 766 images, 60 backgrounds, 95 corrupt: 100%|██████████| 810/810 [00:00<?, ?it/s]"
          ]
        },
        {
          "output_type": "stream",
          "name": "stdout",
          "text": [
            "\u001b[34m\u001b[1mtrain: \u001b[0mWARNING ⚠️ /content/drive/MyDrive/bee_yolo_mmh2/data/train/01_1_R_AB_AP_20220718_02_0135.jpg: ignoring corrupt image/label: cannot reshape array of size 9 into shape (2)\n",
            "\u001b[34m\u001b[1mtrain: \u001b[0mWARNING ⚠️ /content/drive/MyDrive/bee_yolo_mmh2/data/train/01_1_R_AB_AP_20220718_02_0136.jpg: ignoring corrupt image/label: cannot reshape array of size 9 into shape (2)\n",
            "\u001b[34m\u001b[1mtrain: \u001b[0mWARNING ⚠️ /content/drive/MyDrive/bee_yolo_mmh2/data/train/01_1_R_AB_AP_20220718_02_0170.jpg: ignoring corrupt image/label: cannot reshape array of size 9 into shape (2)\n",
            "\u001b[34m\u001b[1mtrain: \u001b[0mWARNING ⚠️ /content/drive/MyDrive/bee_yolo_mmh2/data/train/01_1_R_AB_AP_20220718_02_0178.jpg: ignoring corrupt image/label: cannot reshape array of size 9 into shape (2)\n",
            "\u001b[34m\u001b[1mtrain: \u001b[0mWARNING ⚠️ /content/drive/MyDrive/bee_yolo_mmh2/data/train/01_1_R_AB_AP_20220718_02_0289.jpg: ignoring corrupt image/label: cannot reshape array of size 9 into shape (2)\n",
            "\u001b[34m\u001b[1mtrain: \u001b[0mWARNING ⚠️ /content/drive/MyDrive/bee_yolo_mmh2/data/train/01_1_R_AB_AP_20220718_02_0437.jpg: ignoring corrupt image/label: cannot reshape array of size 9 into shape (2)\n",
            "\u001b[34m\u001b[1mtrain: \u001b[0mWARNING ⚠️ /content/drive/MyDrive/bee_yolo_mmh2/data/train/01_1_R_AB_AP_20220718_02_0444.jpg: ignoring corrupt image/label: non-normalized or out of bounds coordinates [     1.5826      1.5849      2.8349      2.8302]\n",
            "\u001b[34m\u001b[1mtrain: \u001b[0mWARNING ⚠️ /content/drive/MyDrive/bee_yolo_mmh2/data/train/01_1_R_AB_AP_20220718_02_0446.jpg: ignoring corrupt image/label: cannot reshape array of size 19 into shape (2)\n",
            "\u001b[34m\u001b[1mtrain: \u001b[0mWARNING ⚠️ /content/drive/MyDrive/bee_yolo_mmh2/data/train/01_1_R_AB_AP_20220718_02_0447.jpg: ignoring corrupt image/label: non-normalized or out of bounds coordinates [     1.5708      1.5534      2.8583      2.8932]\n",
            "\u001b[34m\u001b[1mtrain: \u001b[0mWARNING ⚠️ /content/drive/MyDrive/bee_yolo_mmh2/data/train/01_1_R_AB_AP_20220718_02_0454.jpg: ignoring corrupt image/label: cannot reshape array of size 9 into shape (2)\n",
            "\u001b[34m\u001b[1mtrain: \u001b[0mWARNING ⚠️ /content/drive/MyDrive/bee_yolo_mmh2/data/train/01_1_R_AB_AP_20220718_02_0617.jpg: ignoring corrupt image/label: cannot reshape array of size 9 into shape (2)\n",
            "\u001b[34m\u001b[1mtrain: \u001b[0mWARNING ⚠️ /content/drive/MyDrive/bee_yolo_mmh2/data/train/01_1_R_AB_AP_20220718_02_0618.jpg: ignoring corrupt image/label: cannot reshape array of size 9 into shape (2)\n",
            "\u001b[34m\u001b[1mtrain: \u001b[0mWARNING ⚠️ /content/drive/MyDrive/bee_yolo_mmh2/data/train/01_1_R_AB_AP_20220718_02_0628.jpg: ignoring corrupt image/label: cannot reshape array of size 9 into shape (2)\n",
            "\u001b[34m\u001b[1mtrain: \u001b[0mWARNING ⚠️ /content/drive/MyDrive/bee_yolo_mmh2/data/train/01_1_R_AB_AP_20220718_02_0682.jpg: ignoring corrupt image/label: cannot reshape array of size 9 into shape (2)\n",
            "\u001b[34m\u001b[1mtrain: \u001b[0mWARNING ⚠️ /content/drive/MyDrive/bee_yolo_mmh2/data/train/01_1_R_AB_AP_20220718_02_0700.jpg: ignoring corrupt image/label: cannot reshape array of size 9 into shape (2)\n",
            "\u001b[34m\u001b[1mtrain: \u001b[0mWARNING ⚠️ /content/drive/MyDrive/bee_yolo_mmh2/data/train/01_1_R_AB_AP_20220718_02_0838.jpg: ignoring corrupt image/label: cannot reshape array of size 9 into shape (2)\n",
            "\u001b[34m\u001b[1mtrain: \u001b[0mWARNING ⚠️ /content/drive/MyDrive/bee_yolo_mmh2/data/train/01_1_R_AB_AP_20220718_02_0870.jpg: ignoring corrupt image/label: non-normalized or out of bounds coordinates [     1.5536       1.569      2.8927       2.862]\n",
            "\u001b[34m\u001b[1mtrain: \u001b[0mWARNING ⚠️ /content/drive/MyDrive/bee_yolo_mmh2/data/train/01_1_R_AB_AP_20220718_02_0872.jpg: ignoring corrupt image/label: cannot reshape array of size 9 into shape (2)\n",
            "\u001b[34m\u001b[1mtrain: \u001b[0mWARNING ⚠️ /content/drive/MyDrive/bee_yolo_mmh2/data/train/01_1_R_AB_AP_20220718_02_0891.jpg: ignoring corrupt image/label: cannot reshape array of size 9 into shape (2)\n",
            "\u001b[34m\u001b[1mtrain: \u001b[0mWARNING ⚠️ /content/drive/MyDrive/bee_yolo_mmh2/data/train/01_1_R_AB_AP_20220718_02_0895.jpg: ignoring corrupt image/label: non-normalized or out of bounds coordinates [     1.5745      1.5667       2.851      2.8667]\n",
            "\u001b[34m\u001b[1mtrain: \u001b[0mWARNING ⚠️ /content/drive/MyDrive/bee_yolo_mmh2/data/train/01_1_R_AB_BI_20220726_01_0055.jpg: ignoring corrupt image/label: cannot reshape array of size 9 into shape (2)\n",
            "\u001b[34m\u001b[1mtrain: \u001b[0mWARNING ⚠️ /content/drive/MyDrive/bee_yolo_mmh2/data/train/01_1_R_AB_BI_20220726_01_0057.jpg: ignoring corrupt image/label: cannot reshape array of size 9 into shape (2)\n",
            "\u001b[34m\u001b[1mtrain: \u001b[0mWARNING ⚠️ /content/drive/MyDrive/bee_yolo_mmh2/data/train/01_1_R_AB_BI_20220726_01_0059.jpg: ignoring corrupt image/label: cannot reshape array of size 9 into shape (2)\n",
            "\u001b[34m\u001b[1mtrain: \u001b[0mWARNING ⚠️ /content/drive/MyDrive/bee_yolo_mmh2/data/train/01_1_R_AB_BI_20220726_01_0060.jpg: ignoring corrupt image/label: cannot reshape array of size 9 into shape (2)\n",
            "\u001b[34m\u001b[1mtrain: \u001b[0mWARNING ⚠️ /content/drive/MyDrive/bee_yolo_mmh2/data/train/01_1_R_AB_BI_20220726_01_0063.jpg: ignoring corrupt image/label: cannot reshape array of size 9 into shape (2)\n",
            "\u001b[34m\u001b[1mtrain: \u001b[0mWARNING ⚠️ /content/drive/MyDrive/bee_yolo_mmh2/data/train/01_1_R_AB_BI_20220726_01_0064.jpg: ignoring corrupt image/label: cannot reshape array of size 9 into shape (2)\n",
            "\u001b[34m\u001b[1mtrain: \u001b[0mWARNING ⚠️ /content/drive/MyDrive/bee_yolo_mmh2/data/train/01_1_R_AB_BI_20220726_01_0065.jpg: ignoring corrupt image/label: cannot reshape array of size 9 into shape (2)\n",
            "\u001b[34m\u001b[1mtrain: \u001b[0mWARNING ⚠️ /content/drive/MyDrive/bee_yolo_mmh2/data/train/01_1_R_AB_BI_20220726_01_0067.jpg: ignoring corrupt image/label: cannot reshape array of size 9 into shape (2)\n",
            "\u001b[34m\u001b[1mtrain: \u001b[0mWARNING ⚠️ /content/drive/MyDrive/bee_yolo_mmh2/data/train/01_1_R_AB_BI_20220726_01_0068.jpg: ignoring corrupt image/label: cannot reshape array of size 9 into shape (2)\n",
            "\u001b[34m\u001b[1mtrain: \u001b[0mWARNING ⚠️ /content/drive/MyDrive/bee_yolo_mmh2/data/train/01_1_R_AB_BI_20220726_01_0069.jpg: ignoring corrupt image/label: cannot reshape array of size 9 into shape (2)\n",
            "\u001b[34m\u001b[1mtrain: \u001b[0mWARNING ⚠️ /content/drive/MyDrive/bee_yolo_mmh2/data/train/01_1_R_AB_BI_20220726_01_0073.jpg: ignoring corrupt image/label: cannot reshape array of size 9 into shape (2)\n",
            "\u001b[34m\u001b[1mtrain: \u001b[0mWARNING ⚠️ /content/drive/MyDrive/bee_yolo_mmh2/data/train/01_1_R_AB_BI_20220726_01_0080.jpg: ignoring corrupt image/label: cannot reshape array of size 9 into shape (2)\n",
            "\u001b[34m\u001b[1mtrain: \u001b[0mWARNING ⚠️ /content/drive/MyDrive/bee_yolo_mmh2/data/train/01_1_R_AB_BI_20220726_01_0099.jpg: ignoring corrupt image/label: cannot reshape array of size 9 into shape (2)\n",
            "\u001b[34m\u001b[1mtrain: \u001b[0mWARNING ⚠️ /content/drive/MyDrive/bee_yolo_mmh2/data/train/01_1_R_AB_BI_20220726_01_0186.jpg: ignoring corrupt image/label: cannot reshape array of size 9 into shape (2)\n",
            "\u001b[34m\u001b[1mtrain: \u001b[0mWARNING ⚠️ /content/drive/MyDrive/bee_yolo_mmh2/data/train/01_1_R_AB_BI_20220726_01_0187.jpg: ignoring corrupt image/label: cannot reshape array of size 9 into shape (2)\n",
            "\u001b[34m\u001b[1mtrain: \u001b[0mWARNING ⚠️ /content/drive/MyDrive/bee_yolo_mmh2/data/train/01_1_R_AB_BI_20220726_01_0233.jpg: ignoring corrupt image/label: cannot reshape array of size 9 into shape (2)\n",
            "\u001b[34m\u001b[1mtrain: \u001b[0mWARNING ⚠️ /content/drive/MyDrive/bee_yolo_mmh2/data/train/01_1_R_AB_BI_20220726_01_0234.jpg: ignoring corrupt image/label: cannot reshape array of size 9 into shape (2)\n",
            "\u001b[34m\u001b[1mtrain: \u001b[0mWARNING ⚠️ /content/drive/MyDrive/bee_yolo_mmh2/data/train/01_1_R_AB_BI_20220726_01_0235.jpg: ignoring corrupt image/label: cannot reshape array of size 9 into shape (2)\n",
            "\u001b[34m\u001b[1mtrain: \u001b[0mWARNING ⚠️ /content/drive/MyDrive/bee_yolo_mmh2/data/train/01_1_R_AB_CA_20220715_01_0011.jpg: ignoring corrupt image/label: cannot reshape array of size 9 into shape (2)\n",
            "\u001b[34m\u001b[1mtrain: \u001b[0mWARNING ⚠️ /content/drive/MyDrive/bee_yolo_mmh2/data/train/01_1_R_AB_CA_20220715_01_0018.jpg: ignoring corrupt image/label: cannot reshape array of size 9 into shape (2)\n",
            "\u001b[34m\u001b[1mtrain: \u001b[0mWARNING ⚠️ /content/drive/MyDrive/bee_yolo_mmh2/data/train/01_1_R_AB_CA_20220715_01_0019.jpg: ignoring corrupt image/label: cannot reshape array of size 9 into shape (2)\n",
            "\u001b[34m\u001b[1mtrain: \u001b[0mWARNING ⚠️ /content/drive/MyDrive/bee_yolo_mmh2/data/train/01_1_R_AB_CA_20220715_01_0024.jpg: ignoring corrupt image/label: non-normalized or out of bounds coordinates [     1.5689      1.5578      2.8622      2.8844]\n",
            "\u001b[34m\u001b[1mtrain: \u001b[0mWARNING ⚠️ /content/drive/MyDrive/bee_yolo_mmh2/data/train/01_1_R_AB_CA_20220715_01_0051.jpg: ignoring corrupt image/label: cannot reshape array of size 9 into shape (2)\n",
            "\u001b[34m\u001b[1mtrain: \u001b[0mWARNING ⚠️ /content/drive/MyDrive/bee_yolo_mmh2/data/train/01_1_R_AB_CA_20220715_01_0052.jpg: ignoring corrupt image/label: cannot reshape array of size 9 into shape (2)\n",
            "\u001b[34m\u001b[1mtrain: \u001b[0mWARNING ⚠️ /content/drive/MyDrive/bee_yolo_mmh2/data/train/01_1_R_AB_CA_20220715_01_0054.jpg: ignoring corrupt image/label: cannot reshape array of size 9 into shape (2)\n",
            "\u001b[34m\u001b[1mtrain: \u001b[0mWARNING ⚠️ /content/drive/MyDrive/bee_yolo_mmh2/data/train/01_1_R_AB_CA_20220715_01_0055.jpg: ignoring corrupt image/label: cannot reshape array of size 9 into shape (2)\n",
            "\u001b[34m\u001b[1mtrain: \u001b[0mWARNING ⚠️ /content/drive/MyDrive/bee_yolo_mmh2/data/train/01_1_R_AB_CA_20220715_01_0057.jpg: ignoring corrupt image/label: cannot reshape array of size 9 into shape (2)\n",
            "\u001b[34m\u001b[1mtrain: \u001b[0mWARNING ⚠️ /content/drive/MyDrive/bee_yolo_mmh2/data/train/01_1_R_AB_CA_20220715_01_0068.jpg: ignoring corrupt image/label: cannot reshape array of size 9 into shape (2)\n",
            "\u001b[34m\u001b[1mtrain: \u001b[0mWARNING ⚠️ /content/drive/MyDrive/bee_yolo_mmh2/data/train/01_1_R_AB_CA_20220715_01_0074.jpg: ignoring corrupt image/label: cannot reshape array of size 9 into shape (2)\n",
            "\u001b[34m\u001b[1mtrain: \u001b[0mWARNING ⚠️ /content/drive/MyDrive/bee_yolo_mmh2/data/train/01_1_R_AB_CA_20220715_01_0075.jpg: ignoring corrupt image/label: cannot reshape array of size 9 into shape (2)\n",
            "\u001b[34m\u001b[1mtrain: \u001b[0mWARNING ⚠️ /content/drive/MyDrive/bee_yolo_mmh2/data/train/01_1_R_AB_CA_20220715_01_0079.jpg: ignoring corrupt image/label: cannot reshape array of size 9 into shape (2)\n",
            "\u001b[34m\u001b[1mtrain: \u001b[0mWARNING ⚠️ /content/drive/MyDrive/bee_yolo_mmh2/data/train/01_1_R_AB_CA_20220715_01_0082.jpg: ignoring corrupt image/label: cannot reshape array of size 9 into shape (2)\n",
            "\u001b[34m\u001b[1mtrain: \u001b[0mWARNING ⚠️ /content/drive/MyDrive/bee_yolo_mmh2/data/train/01_1_R_AB_CA_20220715_01_0086.jpg: ignoring corrupt image/label: cannot reshape array of size 9 into shape (2)\n",
            "\u001b[34m\u001b[1mtrain: \u001b[0mWARNING ⚠️ /content/drive/MyDrive/bee_yolo_mmh2/data/train/01_1_R_AB_CA_20220715_01_0089.jpg: ignoring corrupt image/label: cannot reshape array of size 9 into shape (2)\n",
            "\u001b[34m\u001b[1mtrain: \u001b[0mWARNING ⚠️ /content/drive/MyDrive/bee_yolo_mmh2/data/train/01_1_R_AB_CA_20220715_01_0105.jpg: ignoring corrupt image/label: cannot reshape array of size 19 into shape (2)\n",
            "\u001b[34m\u001b[1mtrain: \u001b[0mWARNING ⚠️ /content/drive/MyDrive/bee_yolo_mmh2/data/train/01_1_R_AB_CA_20220715_01_0109.jpg: ignoring corrupt image/label: non-normalized or out of bounds coordinates [     1.5917      1.6138      2.8167      2.7724]\n",
            "\u001b[34m\u001b[1mtrain: \u001b[0mWARNING ⚠️ /content/drive/MyDrive/bee_yolo_mmh2/data/train/01_1_R_AB_CA_20220715_01_0122.jpg: ignoring corrupt image/label: non-normalized or out of bounds coordinates [     1.5914      1.5951      2.8172      2.8099]\n",
            "\u001b[34m\u001b[1mtrain: \u001b[0mWARNING ⚠️ /content/drive/MyDrive/bee_yolo_mmh2/data/train/01_1_R_AB_CA_20220715_01_0123.jpg: ignoring corrupt image/label: non-normalized or out of bounds coordinates [     1.5819      1.6154      2.8361      2.7693]\n",
            "\u001b[34m\u001b[1mtrain: \u001b[0mWARNING ⚠️ /content/drive/MyDrive/bee_yolo_mmh2/data/train/01_1_R_AB_CA_20220715_01_0126.jpg: ignoring corrupt image/label: cannot reshape array of size 9 into shape (2)\n",
            "\u001b[34m\u001b[1mtrain: \u001b[0mWARNING ⚠️ /content/drive/MyDrive/bee_yolo_mmh2/data/train/01_1_R_AB_CA_20220715_01_0132.jpg: ignoring corrupt image/label: cannot reshape array of size 9 into shape (2)\n",
            "\u001b[34m\u001b[1mtrain: \u001b[0mWARNING ⚠️ /content/drive/MyDrive/bee_yolo_mmh2/data/train/01_1_R_AB_CA_20220715_01_0147.jpg: ignoring corrupt image/label: cannot reshape array of size 9 into shape (2)\n",
            "\u001b[34m\u001b[1mtrain: \u001b[0mWARNING ⚠️ /content/drive/MyDrive/bee_yolo_mmh2/data/train/01_1_R_AB_CA_20220715_01_0157.jpg: ignoring corrupt image/label: cannot reshape array of size 9 into shape (2)\n",
            "\u001b[34m\u001b[1mtrain: \u001b[0mWARNING ⚠️ /content/drive/MyDrive/bee_yolo_mmh2/data/train/01_1_R_AB_CA_20220715_01_0158.jpg: ignoring corrupt image/label: non-normalized or out of bounds coordinates [      1.575      1.6182        2.85      2.7635]\n",
            "\u001b[34m\u001b[1mtrain: \u001b[0mWARNING ⚠️ /content/drive/MyDrive/bee_yolo_mmh2/data/train/01_1_R_AB_CA_20220715_01_0345.jpg: ignoring corrupt image/label: cannot reshape array of size 9 into shape (2)\n",
            "\u001b[34m\u001b[1mtrain: \u001b[0mWARNING ⚠️ /content/drive/MyDrive/bee_yolo_mmh2/data/train/01_1_R_AB_CA_20220715_01_0346.jpg: ignoring corrupt image/label: cannot reshape array of size 9 into shape (2)\n",
            "\u001b[34m\u001b[1mtrain: \u001b[0mWARNING ⚠️ /content/drive/MyDrive/bee_yolo_mmh2/data/train/01_1_R_AB_CA_20220715_01_0347.jpg: ignoring corrupt image/label: cannot reshape array of size 9 into shape (2)\n",
            "\u001b[34m\u001b[1mtrain: \u001b[0mWARNING ⚠️ /content/drive/MyDrive/bee_yolo_mmh2/data/train/01_1_R_AB_CA_20220715_01_0351.jpg: ignoring corrupt image/label: cannot reshape array of size 9 into shape (2)\n",
            "\u001b[34m\u001b[1mtrain: \u001b[0mWARNING ⚠️ /content/drive/MyDrive/bee_yolo_mmh2/data/train/01_1_R_AB_CA_20220715_01_0641.jpg: ignoring corrupt image/label: cannot reshape array of size 9 into shape (2)\n",
            "\u001b[34m\u001b[1mtrain: \u001b[0mWARNING ⚠️ /content/drive/MyDrive/bee_yolo_mmh2/data/train/01_1_R_AB_CA_20220715_01_0658.jpg: ignoring corrupt image/label: cannot reshape array of size 9 into shape (2)\n",
            "\u001b[34m\u001b[1mtrain: \u001b[0mWARNING ⚠️ /content/drive/MyDrive/bee_yolo_mmh2/data/train/01_1_R_AB_LI_20220705_01_0027.jpg: ignoring corrupt image/label: cannot reshape array of size 9 into shape (2)\n",
            "\u001b[34m\u001b[1mtrain: \u001b[0mWARNING ⚠️ /content/drive/MyDrive/bee_yolo_mmh2/data/train/01_1_R_AB_LI_20220705_01_0390.jpg: ignoring corrupt image/label: cannot reshape array of size 9 into shape (2)\n",
            "\u001b[34m\u001b[1mtrain: \u001b[0mWARNING ⚠️ /content/drive/MyDrive/bee_yolo_mmh2/data/train/01_1_R_AB_LI_20220705_01_0689.jpg: ignoring corrupt image/label: non-normalized or out of bounds coordinates [     1.5318      1.5734      2.9365      2.8531]\n",
            "\u001b[34m\u001b[1mtrain: \u001b[0mWARNING ⚠️ /content/drive/MyDrive/bee_yolo_mmh2/data/train/augmented_m80.jpg: ignoring corrupt image/label: non-normalized or out of bounds coordinates [     1.2348]\n",
            "\u001b[34m\u001b[1mtrain: \u001b[0mWARNING ⚠️ /content/drive/MyDrive/bee_yolo_mmh2/data/train/augmented_m88.jpg: ignoring corrupt image/label: non-normalized or out of bounds coordinates [     1.2247]\n",
            "\u001b[34m\u001b[1mtrain: \u001b[0mWARNING ⚠️ /content/drive/MyDrive/bee_yolo_mmh2/data/train/augmented_mm100.jpg: ignoring corrupt image/label: non-normalized or out of bounds coordinates [     1.2635]\n",
            "\u001b[34m\u001b[1mtrain: \u001b[0mWARNING ⚠️ /content/drive/MyDrive/bee_yolo_mmh2/data/train/augmented_mm106.jpg: ignoring corrupt image/label: non-normalized or out of bounds coordinates [     1.2739]\n",
            "\u001b[34m\u001b[1mtrain: \u001b[0mWARNING ⚠️ /content/drive/MyDrive/bee_yolo_mmh2/data/train/augmented_mm11.jpg: ignoring corrupt image/label: non-normalized or out of bounds coordinates [     1.0287]\n",
            "\u001b[34m\u001b[1mtrain: \u001b[0mWARNING ⚠️ /content/drive/MyDrive/bee_yolo_mmh2/data/train/augmented_mm111.jpg: ignoring corrupt image/label: negative label values [  -0.077656]\n",
            "\u001b[34m\u001b[1mtrain: \u001b[0mWARNING ⚠️ /content/drive/MyDrive/bee_yolo_mmh2/data/train/augmented_mm118.jpg: ignoring corrupt image/label: non-normalized or out of bounds coordinates [     1.1585]\n",
            "\u001b[34m\u001b[1mtrain: \u001b[0mWARNING ⚠️ /content/drive/MyDrive/bee_yolo_mmh2/data/train/augmented_mm149.jpg: ignoring corrupt image/label: non-normalized or out of bounds coordinates [     1.0864]\n",
            "\u001b[34m\u001b[1mtrain: \u001b[0mWARNING ⚠️ /content/drive/MyDrive/bee_yolo_mmh2/data/train/augmented_mm158.jpg: ignoring corrupt image/label: non-normalized or out of bounds coordinates [     1.2734]\n",
            "\u001b[34m\u001b[1mtrain: \u001b[0mWARNING ⚠️ /content/drive/MyDrive/bee_yolo_mmh2/data/train/augmented_mm162.jpg: ignoring corrupt image/label: non-normalized or out of bounds coordinates [     1.2732]\n",
            "\u001b[34m\u001b[1mtrain: \u001b[0mWARNING ⚠️ /content/drive/MyDrive/bee_yolo_mmh2/data/train/augmented_mm27.jpg: ignoring corrupt image/label: non-normalized or out of bounds coordinates [     1.5723]\n",
            "\u001b[34m\u001b[1mtrain: \u001b[0mWARNING ⚠️ /content/drive/MyDrive/bee_yolo_mmh2/data/train/augmented_mm29.jpg: ignoring corrupt image/label: non-normalized or out of bounds coordinates [     1.5688]\n",
            "\u001b[34m\u001b[1mtrain: \u001b[0mWARNING ⚠️ /content/drive/MyDrive/bee_yolo_mmh2/data/train/augmented_mm30.jpg: ignoring corrupt image/label: non-normalized or out of bounds coordinates [     1.5425]\n",
            "\u001b[34m\u001b[1mtrain: \u001b[0mWARNING ⚠️ /content/drive/MyDrive/bee_yolo_mmh2/data/train/augmented_mm31.jpg: ignoring corrupt image/label: non-normalized or out of bounds coordinates [     1.6185]\n",
            "\u001b[34m\u001b[1mtrain: \u001b[0mWARNING ⚠️ /content/drive/MyDrive/bee_yolo_mmh2/data/train/augmented_mm32.jpg: ignoring corrupt image/label: negative label values [  -0.010286]\n",
            "\u001b[34m\u001b[1mtrain: \u001b[0mWARNING ⚠️ /content/drive/MyDrive/bee_yolo_mmh2/data/train/augmented_mm50.jpg: ignoring corrupt image/label: negative label values [  -0.040907]\n",
            "\u001b[34m\u001b[1mtrain: \u001b[0mWARNING ⚠️ /content/drive/MyDrive/bee_yolo_mmh2/data/train/augmented_mm61.jpg: ignoring corrupt image/label: non-normalized or out of bounds coordinates [     1.3734]\n",
            "\u001b[34m\u001b[1mtrain: \u001b[0mWARNING ⚠️ /content/drive/MyDrive/bee_yolo_mmh2/data/train/augmented_mm73.jpg: ignoring corrupt image/label: negative label values [  -0.041973]\n",
            "\u001b[34m\u001b[1mtrain: \u001b[0mWARNING ⚠️ /content/drive/MyDrive/bee_yolo_mmh2/data/train/augmented_mm81.jpg: ignoring corrupt image/label: non-normalized or out of bounds coordinates [     1.6161]\n",
            "\u001b[34m\u001b[1mtrain: \u001b[0mWARNING ⚠️ /content/drive/MyDrive/bee_yolo_mmh2/data/train/ho308.jpg: 1 duplicate labels removed\n",
            "\u001b[34m\u001b[1mtrain: \u001b[0mWARNING ⚠️ /content/drive/MyDrive/bee_yolo_mmh2/data/train/mm53.jpg: ignoring corrupt image/label: non-normalized or out of bounds coordinates [     1.0033]\n",
            "\u001b[34m\u001b[1mtrain: \u001b[0mWARNING ⚠️ /content/drive/MyDrive/bee_yolo_mmh2/data/train/mm7.jpg: ignoring corrupt image/label: non-normalized or out of bounds coordinates [     1.1344]\n",
            "\u001b[34m\u001b[1mtrain: \u001b[0mWARNING ⚠️ /content/drive/MyDrive/bee_yolo_mmh2/data/train/mm8.jpg: ignoring corrupt image/label: non-normalized or out of bounds coordinates [     1.0016]\n",
            "\u001b[34m\u001b[1mtrain: \u001b[0mWARNING ⚠️ /content/drive/MyDrive/bee_yolo_mmh2/data/train/mm91.jpg: ignoring corrupt image/label: non-normalized or out of bounds coordinates [      1.001]\n",
            "WARNING ⚠️ Box and segment counts should be equal, but got len(segments) = 197, len(boxes) = 757. To resolve this only boxes will be used and all segments will be removed. To avoid this please supply either a detect or segment dataset, not a detect-segment mixed dataset.\n"
          ]
        },
        {
          "output_type": "stream",
          "name": "stderr",
          "text": [
            "\n"
          ]
        },
        {
          "output_type": "stream",
          "name": "stdout",
          "text": [
            "\u001b[34m\u001b[1malbumentations: \u001b[0mBlur(p=0.01, blur_limit=(3, 7)), MedianBlur(p=0.01, blur_limit=(3, 7)), ToGray(p=0.01), CLAHE(p=0.01, clip_limit=(1, 4.0), tile_grid_size=(8, 8))\n"
          ]
        },
        {
          "output_type": "stream",
          "name": "stderr",
          "text": [
            "\u001b[34m\u001b[1mval: \u001b[0mScanning /content/drive/MyDrive/bee_yolo_mmh2/data/val.cache... 16 images, 26 backgrounds, 5 corrupt: 100%|██████████| 41/41 [00:00<?, ?it/s]"
          ]
        },
        {
          "output_type": "stream",
          "name": "stdout",
          "text": [
            "\u001b[34m\u001b[1mval: \u001b[0mWARNING ⚠️ /content/drive/MyDrive/bee_yolo_mmh2/data/val/01_1_R_AB_AP_20220718_02_0174.jpg: ignoring corrupt image/label: cannot reshape array of size 9 into shape (2)\n",
            "\u001b[34m\u001b[1mval: \u001b[0mWARNING ⚠️ /content/drive/MyDrive/bee_yolo_mmh2/data/val/01_1_R_AB_AP_20220718_02_0870.jpg: ignoring corrupt image/label: non-normalized or out of bounds coordinates [     1.5536       1.569      2.8927       2.862]\n",
            "\u001b[34m\u001b[1mval: \u001b[0mWARNING ⚠️ /content/drive/MyDrive/bee_yolo_mmh2/data/val/01_1_R_AB_BI_20220726_01_0067.jpg: ignoring corrupt image/label: cannot reshape array of size 9 into shape (2)\n",
            "\u001b[34m\u001b[1mval: \u001b[0mWARNING ⚠️ /content/drive/MyDrive/bee_yolo_mmh2/data/val/01_1_R_AB_BI_20220726_01_0183.jpg: ignoring corrupt image/label: cannot reshape array of size 9 into shape (2)\n",
            "\u001b[34m\u001b[1mval: \u001b[0mWARNING ⚠️ /content/drive/MyDrive/bee_yolo_mmh2/data/val/01_1_R_AB_CA_20220715_01_0070.jpg: ignoring corrupt image/label: cannot reshape array of size 9 into shape (2)\n"
          ]
        },
        {
          "output_type": "stream",
          "name": "stderr",
          "text": [
            "\n"
          ]
        },
        {
          "output_type": "stream",
          "name": "stdout",
          "text": [
            "Plotting labels to runs/detect/train16/labels.jpg... \n",
            "\u001b[34m\u001b[1moptimizer:\u001b[0m 'optimizer=auto' found, ignoring 'lr0=0.01' and 'momentum=0.937' and determining best 'optimizer', 'lr0' and 'momentum' automatically... \n",
            "\u001b[34m\u001b[1moptimizer:\u001b[0m AdamW(lr=0.00125, momentum=0.9) with parameter groups 77 weight(decay=0.0), 84 weight(decay=0.0005), 83 bias(decay=0.0)\n",
            "Image sizes 640 train, 640 val\n",
            "Using 0 dataloader workers\n",
            "Logging results to \u001b[1mruns/detect/train16\u001b[0m\n",
            "Starting training for 100 epochs...\n",
            "\n",
            "      Epoch    GPU_mem   box_loss   cls_loss   dfl_loss  Instances       Size\n"
          ]
        },
        {
          "output_type": "stream",
          "name": "stderr",
          "text": [
            "\r  0%|          | 0/23 [00:00<?, ?it/s]"
          ]
        }
      ]
    },
    {
      "cell_type": "code",
      "source": [
        "print(type(model.names), len(model.names))"
      ],
      "metadata": {
        "colab": {
          "base_uri": "https://localhost:8080/"
        },
        "id": "xToUiv62CJGR",
        "outputId": "16a2d076-8229-4a2d-c96e-83f1680fd4a1"
      },
      "execution_count": null,
      "outputs": [
        {
          "output_type": "stream",
          "name": "stdout",
          "text": [
            "<class 'dict'> 4\n"
          ]
        }
      ]
    },
    {
      "cell_type": "code",
      "source": [
        "print(model.names)"
      ],
      "metadata": {
        "colab": {
          "base_uri": "https://localhost:8080/"
        },
        "id": "Yp0j8sD7CLGT",
        "outputId": "fe30ddb4-9b5e-43f3-dcc6-10c0f03c3590"
      },
      "execution_count": null,
      "outputs": [
        {
          "output_type": "stream",
          "name": "stdout",
          "text": [
            "{0: 'mantis', 1: 'moth', 2: 'hornet', 3: 'bee'}\n"
          ]
        }
      ]
    },
    {
      "cell_type": "code",
      "source": [
        "results= model.predict(source='/content/drive/MyDrive/bee_yolo_mmh2/왕사마귀_사냥6(1)_dachori.jpg', save=True)"
      ],
      "metadata": {
        "colab": {
          "base_uri": "https://localhost:8080/"
        },
        "id": "scArsnyeDBXZ",
        "outputId": "01f262d3-571f-4580-dcc5-64f938ee253a"
      },
      "execution_count": null,
      "outputs": [
        {
          "output_type": "stream",
          "name": "stdout",
          "text": [
            "\n",
            "image 1/1 /content/drive/MyDrive/bee_yolo_mmh2/왕사마귀_사냥6(1)_dachori.jpg: 544x640 (no detections), 10.3ms\n",
            "Speed: 3.4ms preprocess, 10.3ms inference, 1.3ms postprocess per image at shape (1, 3, 544, 640)\n",
            "Results saved to \u001b[1mruns/detect/train103\u001b[0m\n"
          ]
        }
      ]
    },
    {
      "cell_type": "code",
      "source": [
        "results= model.predict(source='/content/drive/MyDrive/bee_yolo_mmh2/꿀벌.jpg', save=True)"
      ],
      "metadata": {
        "colab": {
          "base_uri": "https://localhost:8080/"
        },
        "id": "jIttgpaLyMBU",
        "outputId": "de52afb7-c325-4cb8-a903-cbeeb7c05b8a"
      },
      "execution_count": null,
      "outputs": [
        {
          "output_type": "stream",
          "name": "stdout",
          "text": [
            "\n",
            "image 1/1 /content/drive/MyDrive/bee_yolo_mmh2/꿀벌.jpg: 448x640 (no detections), 133.0ms\n",
            "Speed: 1.7ms preprocess, 133.0ms inference, 1.9ms postprocess per image at shape (1, 3, 448, 640)\n",
            "Results saved to \u001b[1mruns/detect/train104\u001b[0m\n"
          ]
        }
      ]
    },
    {
      "cell_type": "code",
      "source": [],
      "metadata": {
        "id": "L6-Rp0ZEUn-a"
      },
      "execution_count": null,
      "outputs": []
    },
    {
      "cell_type": "code",
      "source": [
        "# 예측확률이 0.6 이상만 출력\n",
        "model.predict('/content/drive/MyDrive/bee_yolo_mmh2/test/ho134.jpg', save=True, conf=0.6)\n"
      ],
      "metadata": {
        "id": "UpUIu3zGECzd",
        "colab": {
          "base_uri": "https://localhost:8080/"
        },
        "outputId": "df2453c7-50c7-45ab-c81e-c29fe642b318"
      },
      "execution_count": null,
      "outputs": [
        {
          "output_type": "stream",
          "name": "stdout",
          "text": [
            "\n",
            "image 1/1 /content/drive/MyDrive/bee_yolo_mmh2/test/ho134.jpg: 640x640 (no detections), 10.5ms\n",
            "Speed: 2.0ms preprocess, 10.5ms inference, 1.7ms postprocess per image at shape (1, 3, 640, 640)\n",
            "Results saved to \u001b[1mruns/detect/train58\u001b[0m\n"
          ]
        },
        {
          "output_type": "execute_result",
          "data": {
            "text/plain": [
              "[ultralytics.engine.results.Results object with attributes:\n",
              " \n",
              " boxes: ultralytics.engine.results.Boxes object\n",
              " keypoints: None\n",
              " masks: None\n",
              " names: {0: 'mantis', 1: 'moth', 2: 'hornet'}\n",
              " orig_img: array([[[173, 186, 184],\n",
              "         [173, 186, 184],\n",
              "         [173, 186, 184],\n",
              "         ...,\n",
              "         [161, 169, 168],\n",
              "         [161, 169, 168],\n",
              "         [161, 169, 168]],\n",
              " \n",
              "        [[173, 186, 184],\n",
              "         [173, 186, 184],\n",
              "         [173, 186, 184],\n",
              "         ...,\n",
              "         [161, 169, 168],\n",
              "         [161, 169, 168],\n",
              "         [161, 169, 168]],\n",
              " \n",
              "        [[173, 186, 184],\n",
              "         [173, 186, 184],\n",
              "         [173, 186, 184],\n",
              "         ...,\n",
              "         [161, 169, 168],\n",
              "         [161, 169, 168],\n",
              "         [161, 169, 168]],\n",
              " \n",
              "        ...,\n",
              " \n",
              "        [[144, 193, 215],\n",
              "         [145, 194, 216],\n",
              "         [146, 195, 217],\n",
              "         ...,\n",
              "         [141, 178, 204],\n",
              "         [141, 178, 204],\n",
              "         [142, 179, 205]],\n",
              " \n",
              "        [[146, 195, 217],\n",
              "         [147, 196, 218],\n",
              "         [148, 197, 219],\n",
              "         ...,\n",
              "         [141, 178, 204],\n",
              "         [142, 179, 205],\n",
              "         [142, 179, 205]],\n",
              " \n",
              "        [[147, 196, 218],\n",
              "         [148, 197, 219],\n",
              "         [149, 198, 220],\n",
              "         ...,\n",
              "         [141, 178, 204],\n",
              "         [142, 179, 205],\n",
              "         [142, 179, 205]]], dtype=uint8)\n",
              " orig_shape: (640, 640)\n",
              " path: '/content/drive/MyDrive/bee_yolo_mmh2/test/ho134.jpg'\n",
              " probs: None\n",
              " save_dir: 'runs/detect/train58'\n",
              " speed: {'preprocess': 1.995086669921875, 'inference': 10.501861572265625, 'postprocess': 1.7330646514892578}]"
            ]
          },
          "metadata": {},
          "execution_count": 28
        }
      ]
    },
    {
      "cell_type": "code",
      "source": [
        "import pandas as pd\n",
        "\n",
        "# 파일 경로를 실제 파일 경로로 변경\n",
        "result_df = pd.read_csv('/content/drive/MyDrive/bee_yolo_mmh2/runs/detect/train10/results.csv')\n",
        "\n",
        "# DataFrame의 처음 몇 행을 출력하여 클래스 정보가 어떤 열에 저장되어 있는지 확인\n",
        "print(result_df.head())\n",
        "\n",
        "# 클래스 정보를 포함하는 열의 이름을 출력\n",
        "class_column_names = ['Class', 'classname', 'Label']  # 가능한 열 이름 목록\n",
        "for col_name in class_column_names:\n",
        "    if col_name in result_df.columns:\n",
        "        print(f\"클래스 정보가 저장된 열 이름: {col_name}\")\n",
        "        break\n"
      ],
      "metadata": {
        "colab": {
          "base_uri": "https://localhost:8080/"
        },
        "id": "3HoWpAaZssk7",
        "outputId": "e2722d07-86fb-4aa2-fddf-8073458735dd"
      },
      "execution_count": null,
      "outputs": [
        {
          "output_type": "stream",
          "name": "stdout",
          "text": [
            "                     epoch           train/box_loss           train/cls_loss  \\\n",
            "0                        1                   1.8298                   3.9705   \n",
            "1                        2                   1.6217                   3.2939   \n",
            "2                        3                   1.5680                   2.7630   \n",
            "3                        4                   1.5295                   2.4917   \n",
            "4                        5                   1.5524                   2.4384   \n",
            "\n",
            "            train/dfl_loss     metrics/precision(B)        metrics/recall(B)  \\\n",
            "0                   1.9382                  0.00146                  0.68750   \n",
            "1                   1.7961                  0.00109                  0.93750   \n",
            "2                   1.7300                  0.55979                  0.50000   \n",
            "3                   1.6842                  0.67906                  0.25000   \n",
            "4                   1.6921                  0.74606                  0.24606   \n",
            "\n",
            "          metrics/mAP50(B)      metrics/mAP50-95(B)             val/box_loss  \\\n",
            "0                  0.11238                  0.06947                   1.7375   \n",
            "1                  0.50537                  0.14467                   1.5999   \n",
            "2                  0.38977                  0.17399                   1.4963   \n",
            "3                  0.32935                  0.16339                   1.3798   \n",
            "4                  0.61486                  0.31063                   1.3390   \n",
            "\n",
            "              val/cls_loss             val/dfl_loss                   lr/pg0  \\\n",
            "0                   7.1656                   1.8984                 0.000138   \n",
            "1                   7.9370                   1.6157                 0.000285   \n",
            "2                   7.1429                   1.5340                 0.000429   \n",
            "3                   7.0443                   1.4513                 0.000570   \n",
            "4                   6.0728                   1.4881                 0.000708   \n",
            "\n",
            "                    lr/pg1                   lr/pg2  \n",
            "0                 0.000138                 0.000138  \n",
            "1                 0.000285                 0.000285  \n",
            "2                 0.000429                 0.000429  \n",
            "3                 0.000570                 0.000570  \n",
            "4                 0.000708                 0.000708  \n"
          ]
        }
      ]
    },
    {
      "cell_type": "code",
      "source": [
        "result_df.head()"
      ],
      "metadata": {
        "colab": {
          "base_uri": "https://localhost:8080/",
          "height": 243
        },
        "id": "mCVfxXZ7sPED",
        "outputId": "2ada844e-fc84-4cc1-b740-a73fb8be7714"
      },
      "execution_count": null,
      "outputs": [
        {
          "output_type": "execute_result",
          "data": {
            "text/plain": [
              "                     epoch           train/box_loss           train/cls_loss  \\\n",
              "0                        1                   1.8298                   3.9705   \n",
              "1                        2                   1.6217                   3.2939   \n",
              "2                        3                   1.5680                   2.7630   \n",
              "3                        4                   1.5295                   2.4917   \n",
              "4                        5                   1.5524                   2.4384   \n",
              "\n",
              "            train/dfl_loss     metrics/precision(B)        metrics/recall(B)  \\\n",
              "0                   1.9382                  0.00146                  0.68750   \n",
              "1                   1.7961                  0.00109                  0.93750   \n",
              "2                   1.7300                  0.55979                  0.50000   \n",
              "3                   1.6842                  0.67906                  0.25000   \n",
              "4                   1.6921                  0.74606                  0.24606   \n",
              "\n",
              "          metrics/mAP50(B)      metrics/mAP50-95(B)             val/box_loss  \\\n",
              "0                  0.11238                  0.06947                   1.7375   \n",
              "1                  0.50537                  0.14467                   1.5999   \n",
              "2                  0.38977                  0.17399                   1.4963   \n",
              "3                  0.32935                  0.16339                   1.3798   \n",
              "4                  0.61486                  0.31063                   1.3390   \n",
              "\n",
              "              val/cls_loss             val/dfl_loss                   lr/pg0  \\\n",
              "0                   7.1656                   1.8984                 0.000138   \n",
              "1                   7.9370                   1.6157                 0.000285   \n",
              "2                   7.1429                   1.5340                 0.000429   \n",
              "3                   7.0443                   1.4513                 0.000570   \n",
              "4                   6.0728                   1.4881                 0.000708   \n",
              "\n",
              "                    lr/pg1                   lr/pg2  \n",
              "0                 0.000138                 0.000138  \n",
              "1                 0.000285                 0.000285  \n",
              "2                 0.000429                 0.000429  \n",
              "3                 0.000570                 0.000570  \n",
              "4                 0.000708                 0.000708  "
            ],
            "text/html": [
              "\n",
              "  <div id=\"df-97d2103a-0c31-4bca-8182-9d55bf42544a\" class=\"colab-df-container\">\n",
              "    <div>\n",
              "<style scoped>\n",
              "    .dataframe tbody tr th:only-of-type {\n",
              "        vertical-align: middle;\n",
              "    }\n",
              "\n",
              "    .dataframe tbody tr th {\n",
              "        vertical-align: top;\n",
              "    }\n",
              "\n",
              "    .dataframe thead th {\n",
              "        text-align: right;\n",
              "    }\n",
              "</style>\n",
              "<table border=\"1\" class=\"dataframe\">\n",
              "  <thead>\n",
              "    <tr style=\"text-align: right;\">\n",
              "      <th></th>\n",
              "      <th>epoch</th>\n",
              "      <th>train/box_loss</th>\n",
              "      <th>train/cls_loss</th>\n",
              "      <th>train/dfl_loss</th>\n",
              "      <th>metrics/precision(B)</th>\n",
              "      <th>metrics/recall(B)</th>\n",
              "      <th>metrics/mAP50(B)</th>\n",
              "      <th>metrics/mAP50-95(B)</th>\n",
              "      <th>val/box_loss</th>\n",
              "      <th>val/cls_loss</th>\n",
              "      <th>val/dfl_loss</th>\n",
              "      <th>lr/pg0</th>\n",
              "      <th>lr/pg1</th>\n",
              "      <th>lr/pg2</th>\n",
              "    </tr>\n",
              "  </thead>\n",
              "  <tbody>\n",
              "    <tr>\n",
              "      <th>0</th>\n",
              "      <td>1</td>\n",
              "      <td>1.8298</td>\n",
              "      <td>3.9705</td>\n",
              "      <td>1.9382</td>\n",
              "      <td>0.00146</td>\n",
              "      <td>0.68750</td>\n",
              "      <td>0.11238</td>\n",
              "      <td>0.06947</td>\n",
              "      <td>1.7375</td>\n",
              "      <td>7.1656</td>\n",
              "      <td>1.8984</td>\n",
              "      <td>0.000138</td>\n",
              "      <td>0.000138</td>\n",
              "      <td>0.000138</td>\n",
              "    </tr>\n",
              "    <tr>\n",
              "      <th>1</th>\n",
              "      <td>2</td>\n",
              "      <td>1.6217</td>\n",
              "      <td>3.2939</td>\n",
              "      <td>1.7961</td>\n",
              "      <td>0.00109</td>\n",
              "      <td>0.93750</td>\n",
              "      <td>0.50537</td>\n",
              "      <td>0.14467</td>\n",
              "      <td>1.5999</td>\n",
              "      <td>7.9370</td>\n",
              "      <td>1.6157</td>\n",
              "      <td>0.000285</td>\n",
              "      <td>0.000285</td>\n",
              "      <td>0.000285</td>\n",
              "    </tr>\n",
              "    <tr>\n",
              "      <th>2</th>\n",
              "      <td>3</td>\n",
              "      <td>1.5680</td>\n",
              "      <td>2.7630</td>\n",
              "      <td>1.7300</td>\n",
              "      <td>0.55979</td>\n",
              "      <td>0.50000</td>\n",
              "      <td>0.38977</td>\n",
              "      <td>0.17399</td>\n",
              "      <td>1.4963</td>\n",
              "      <td>7.1429</td>\n",
              "      <td>1.5340</td>\n",
              "      <td>0.000429</td>\n",
              "      <td>0.000429</td>\n",
              "      <td>0.000429</td>\n",
              "    </tr>\n",
              "    <tr>\n",
              "      <th>3</th>\n",
              "      <td>4</td>\n",
              "      <td>1.5295</td>\n",
              "      <td>2.4917</td>\n",
              "      <td>1.6842</td>\n",
              "      <td>0.67906</td>\n",
              "      <td>0.25000</td>\n",
              "      <td>0.32935</td>\n",
              "      <td>0.16339</td>\n",
              "      <td>1.3798</td>\n",
              "      <td>7.0443</td>\n",
              "      <td>1.4513</td>\n",
              "      <td>0.000570</td>\n",
              "      <td>0.000570</td>\n",
              "      <td>0.000570</td>\n",
              "    </tr>\n",
              "    <tr>\n",
              "      <th>4</th>\n",
              "      <td>5</td>\n",
              "      <td>1.5524</td>\n",
              "      <td>2.4384</td>\n",
              "      <td>1.6921</td>\n",
              "      <td>0.74606</td>\n",
              "      <td>0.24606</td>\n",
              "      <td>0.61486</td>\n",
              "      <td>0.31063</td>\n",
              "      <td>1.3390</td>\n",
              "      <td>6.0728</td>\n",
              "      <td>1.4881</td>\n",
              "      <td>0.000708</td>\n",
              "      <td>0.000708</td>\n",
              "      <td>0.000708</td>\n",
              "    </tr>\n",
              "  </tbody>\n",
              "</table>\n",
              "</div>\n",
              "    <div class=\"colab-df-buttons\">\n",
              "\n",
              "  <div class=\"colab-df-container\">\n",
              "    <button class=\"colab-df-convert\" onclick=\"convertToInteractive('df-97d2103a-0c31-4bca-8182-9d55bf42544a')\"\n",
              "            title=\"Convert this dataframe to an interactive table.\"\n",
              "            style=\"display:none;\">\n",
              "\n",
              "  <svg xmlns=\"http://www.w3.org/2000/svg\" height=\"24px\" viewBox=\"0 -960 960 960\">\n",
              "    <path d=\"M120-120v-720h720v720H120Zm60-500h600v-160H180v160Zm220 220h160v-160H400v160Zm0 220h160v-160H400v160ZM180-400h160v-160H180v160Zm440 0h160v-160H620v160ZM180-180h160v-160H180v160Zm440 0h160v-160H620v160Z\"/>\n",
              "  </svg>\n",
              "    </button>\n",
              "\n",
              "  <style>\n",
              "    .colab-df-container {\n",
              "      display:flex;\n",
              "      gap: 12px;\n",
              "    }\n",
              "\n",
              "    .colab-df-convert {\n",
              "      background-color: #E8F0FE;\n",
              "      border: none;\n",
              "      border-radius: 50%;\n",
              "      cursor: pointer;\n",
              "      display: none;\n",
              "      fill: #1967D2;\n",
              "      height: 32px;\n",
              "      padding: 0 0 0 0;\n",
              "      width: 32px;\n",
              "    }\n",
              "\n",
              "    .colab-df-convert:hover {\n",
              "      background-color: #E2EBFA;\n",
              "      box-shadow: 0px 1px 2px rgba(60, 64, 67, 0.3), 0px 1px 3px 1px rgba(60, 64, 67, 0.15);\n",
              "      fill: #174EA6;\n",
              "    }\n",
              "\n",
              "    .colab-df-buttons div {\n",
              "      margin-bottom: 4px;\n",
              "    }\n",
              "\n",
              "    [theme=dark] .colab-df-convert {\n",
              "      background-color: #3B4455;\n",
              "      fill: #D2E3FC;\n",
              "    }\n",
              "\n",
              "    [theme=dark] .colab-df-convert:hover {\n",
              "      background-color: #434B5C;\n",
              "      box-shadow: 0px 1px 3px 1px rgba(0, 0, 0, 0.15);\n",
              "      filter: drop-shadow(0px 1px 2px rgba(0, 0, 0, 0.3));\n",
              "      fill: #FFFFFF;\n",
              "    }\n",
              "  </style>\n",
              "\n",
              "    <script>\n",
              "      const buttonEl =\n",
              "        document.querySelector('#df-97d2103a-0c31-4bca-8182-9d55bf42544a button.colab-df-convert');\n",
              "      buttonEl.style.display =\n",
              "        google.colab.kernel.accessAllowed ? 'block' : 'none';\n",
              "\n",
              "      async function convertToInteractive(key) {\n",
              "        const element = document.querySelector('#df-97d2103a-0c31-4bca-8182-9d55bf42544a');\n",
              "        const dataTable =\n",
              "          await google.colab.kernel.invokeFunction('convertToInteractive',\n",
              "                                                    [key], {});\n",
              "        if (!dataTable) return;\n",
              "\n",
              "        const docLinkHtml = 'Like what you see? Visit the ' +\n",
              "          '<a target=\"_blank\" href=https://colab.research.google.com/notebooks/data_table.ipynb>data table notebook</a>'\n",
              "          + ' to learn more about interactive tables.';\n",
              "        element.innerHTML = '';\n",
              "        dataTable['output_type'] = 'display_data';\n",
              "        await google.colab.output.renderOutput(dataTable, element);\n",
              "        const docLink = document.createElement('div');\n",
              "        docLink.innerHTML = docLinkHtml;\n",
              "        element.appendChild(docLink);\n",
              "      }\n",
              "    </script>\n",
              "  </div>\n",
              "\n",
              "\n",
              "<div id=\"df-22e82996-7636-4268-afba-d08766bfaa97\">\n",
              "  <button class=\"colab-df-quickchart\" onclick=\"quickchart('df-22e82996-7636-4268-afba-d08766bfaa97')\"\n",
              "            title=\"Suggest charts\"\n",
              "            style=\"display:none;\">\n",
              "\n",
              "<svg xmlns=\"http://www.w3.org/2000/svg\" height=\"24px\"viewBox=\"0 0 24 24\"\n",
              "     width=\"24px\">\n",
              "    <g>\n",
              "        <path d=\"M19 3H5c-1.1 0-2 .9-2 2v14c0 1.1.9 2 2 2h14c1.1 0 2-.9 2-2V5c0-1.1-.9-2-2-2zM9 17H7v-7h2v7zm4 0h-2V7h2v10zm4 0h-2v-4h2v4z\"/>\n",
              "    </g>\n",
              "</svg>\n",
              "  </button>\n",
              "\n",
              "<style>\n",
              "  .colab-df-quickchart {\n",
              "      --bg-color: #E8F0FE;\n",
              "      --fill-color: #1967D2;\n",
              "      --hover-bg-color: #E2EBFA;\n",
              "      --hover-fill-color: #174EA6;\n",
              "      --disabled-fill-color: #AAA;\n",
              "      --disabled-bg-color: #DDD;\n",
              "  }\n",
              "\n",
              "  [theme=dark] .colab-df-quickchart {\n",
              "      --bg-color: #3B4455;\n",
              "      --fill-color: #D2E3FC;\n",
              "      --hover-bg-color: #434B5C;\n",
              "      --hover-fill-color: #FFFFFF;\n",
              "      --disabled-bg-color: #3B4455;\n",
              "      --disabled-fill-color: #666;\n",
              "  }\n",
              "\n",
              "  .colab-df-quickchart {\n",
              "    background-color: var(--bg-color);\n",
              "    border: none;\n",
              "    border-radius: 50%;\n",
              "    cursor: pointer;\n",
              "    display: none;\n",
              "    fill: var(--fill-color);\n",
              "    height: 32px;\n",
              "    padding: 0;\n",
              "    width: 32px;\n",
              "  }\n",
              "\n",
              "  .colab-df-quickchart:hover {\n",
              "    background-color: var(--hover-bg-color);\n",
              "    box-shadow: 0 1px 2px rgba(60, 64, 67, 0.3), 0 1px 3px 1px rgba(60, 64, 67, 0.15);\n",
              "    fill: var(--button-hover-fill-color);\n",
              "  }\n",
              "\n",
              "  .colab-df-quickchart-complete:disabled,\n",
              "  .colab-df-quickchart-complete:disabled:hover {\n",
              "    background-color: var(--disabled-bg-color);\n",
              "    fill: var(--disabled-fill-color);\n",
              "    box-shadow: none;\n",
              "  }\n",
              "\n",
              "  .colab-df-spinner {\n",
              "    border: 2px solid var(--fill-color);\n",
              "    border-color: transparent;\n",
              "    border-bottom-color: var(--fill-color);\n",
              "    animation:\n",
              "      spin 1s steps(1) infinite;\n",
              "  }\n",
              "\n",
              "  @keyframes spin {\n",
              "    0% {\n",
              "      border-color: transparent;\n",
              "      border-bottom-color: var(--fill-color);\n",
              "      border-left-color: var(--fill-color);\n",
              "    }\n",
              "    20% {\n",
              "      border-color: transparent;\n",
              "      border-left-color: var(--fill-color);\n",
              "      border-top-color: var(--fill-color);\n",
              "    }\n",
              "    30% {\n",
              "      border-color: transparent;\n",
              "      border-left-color: var(--fill-color);\n",
              "      border-top-color: var(--fill-color);\n",
              "      border-right-color: var(--fill-color);\n",
              "    }\n",
              "    40% {\n",
              "      border-color: transparent;\n",
              "      border-right-color: var(--fill-color);\n",
              "      border-top-color: var(--fill-color);\n",
              "    }\n",
              "    60% {\n",
              "      border-color: transparent;\n",
              "      border-right-color: var(--fill-color);\n",
              "    }\n",
              "    80% {\n",
              "      border-color: transparent;\n",
              "      border-right-color: var(--fill-color);\n",
              "      border-bottom-color: var(--fill-color);\n",
              "    }\n",
              "    90% {\n",
              "      border-color: transparent;\n",
              "      border-bottom-color: var(--fill-color);\n",
              "    }\n",
              "  }\n",
              "</style>\n",
              "\n",
              "  <script>\n",
              "    async function quickchart(key) {\n",
              "      const quickchartButtonEl =\n",
              "        document.querySelector('#' + key + ' button');\n",
              "      quickchartButtonEl.disabled = true;  // To prevent multiple clicks.\n",
              "      quickchartButtonEl.classList.add('colab-df-spinner');\n",
              "      try {\n",
              "        const charts = await google.colab.kernel.invokeFunction(\n",
              "            'suggestCharts', [key], {});\n",
              "      } catch (error) {\n",
              "        console.error('Error during call to suggestCharts:', error);\n",
              "      }\n",
              "      quickchartButtonEl.classList.remove('colab-df-spinner');\n",
              "      quickchartButtonEl.classList.add('colab-df-quickchart-complete');\n",
              "    }\n",
              "    (() => {\n",
              "      let quickchartButtonEl =\n",
              "        document.querySelector('#df-22e82996-7636-4268-afba-d08766bfaa97 button');\n",
              "      quickchartButtonEl.style.display =\n",
              "        google.colab.kernel.accessAllowed ? 'block' : 'none';\n",
              "    })();\n",
              "  </script>\n",
              "</div>\n",
              "    </div>\n",
              "  </div>\n"
            ]
          },
          "metadata": {},
          "execution_count": 2
        }
      ]
    },
    {
      "cell_type": "code",
      "source": [
        "from google.colab import drive\n",
        "drive.mount('/content/drive')"
      ],
      "metadata": {
        "colab": {
          "base_uri": "https://localhost:8080/"
        },
        "id": "pnl4-YzdgTxf",
        "outputId": "6b75cd0c-181f-4ccc-b374-85de4ee4f651"
      },
      "execution_count": null,
      "outputs": [
        {
          "output_type": "stream",
          "name": "stdout",
          "text": [
            "Mounted at /content/drive\n"
          ]
        }
      ]
    }
  ]
}
